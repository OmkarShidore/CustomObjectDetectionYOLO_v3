{
 "cells": [
  {
   "cell_type": "code",
   "execution_count": 1,
   "metadata": {},
   "outputs": [],
   "source": [
    "import os\n",
    "import cv2\n",
    "import random\n",
    "import numpy as np\n",
    "import pandas as pd\n",
    "from dicttoxml import dicttoxml\n",
    "import json\n",
    "import glob\n",
    "import xml.etree.ElementTree as ET\n",
    "from sklearn.model_selection import train_test_split"
   ]
  },
  {
   "cell_type": "code",
   "execution_count": 7,
   "metadata": {},
   "outputs": [],
   "source": [
    "#data_split() fucntion will split data into 70-30 % and return train_set,test_set\n",
    "\n",
    "def data_split():\n",
    "    cwd=os.getcwd()\n",
    "    data_dir=cwd+'\\\\Scrap'\n",
    "    xml_loc_list=[]\n",
    "    for file in os.listdir(data_dir):\n",
    "        if file.endswith(\".xml\"):\n",
    "            xml_loc=os.path.join(data_dir,file)\n",
    "            xml_loc_list.append(xml_loc)\n",
    "    random.shuffle(xml_loc_list)\n",
    "    train ,test = train_test_split(xml_loc_list,test_size=0.25)\n",
    "    data=[train,test]\n",
    "    print(\"data_split\")\n",
    "    print(\"Train data:\",len(train))\n",
    "    print(\"Test data:\",len(test))\n",
    "    return data"
   ]
  },
  {
   "cell_type": "code",
   "execution_count": 8,
   "metadata": {},
   "outputs": [],
   "source": [
    "\n",
    "'''\n",
    "this fuction will check for corupt image and return a csv file.\n",
    "\n",
    "use this fucntion on train, test set, to return train_csv nad test csv\n",
    "\n",
    "csv contains img_location, img height, width, counding box co-ordinates,\n",
    "class\n",
    "'''\n",
    "def data_to_csv(data):\n",
    "    xml_list=[]\n",
    "    for xml_loc in data:\n",
    "        tree=ET.parse(xml_loc)\n",
    "        root = tree.getroot()\n",
    "        img_loc=xml_loc.split('.')\n",
    "        img_loc.append('jpg')\n",
    "        img_loc.remove('xml')\n",
    "        img_loc='.'.join(img_loc)\n",
    "        try:\n",
    "            img=cv2.imread(img_loc)\n",
    "        except:\n",
    "            print(\"Image empyt: \",img_loc)\n",
    "        for member in root.findall('object'):\n",
    "            value=(img_loc,\n",
    "                  member[0].text,\n",
    "                   int(root.find('size')[0].text),\n",
    "                   int(root.find('size')[1].text),\n",
    "                   int(member[4][0].text),\n",
    "                   int(member[4][1].text),\n",
    "                   int(member[4][2].text),\n",
    "                   int(member[4][3].text)\n",
    "                  )\n",
    "            xml_list.append(value)\n",
    "            column_name=['filename','class','height','width',\n",
    "                         'xmin','ymin','xmax','ymax']\n",
    "            xml_df=pd.DataFrame(xml_list,columns=column_name)\n",
    "    print(len(xml_df))\n",
    "    return xml_df"
   ]
  },
  {
   "cell_type": "code",
   "execution_count": 9,
   "metadata": {},
   "outputs": [],
   "source": [
    "#this is the ration on height,width with respect to 416 input size of yolo\n",
    "def fx_fy(data_csv):\n",
    "    fx = []\n",
    "    fy = []\n",
    "    for i in range(len(data_csv)):\n",
    "        fx.append(416/int(data_csv['width'][i]))\n",
    "        fy.append(416/int(data_csv['height'][i]))\n",
    "    data_csv['fx']=fx\n",
    "    data_csv['fy']=fy\n",
    "    print(len(data_csv))\n",
    "    return data_csv"
   ]
  },
  {
   "cell_type": "code",
   "execution_count": 10,
   "metadata": {},
   "outputs": [],
   "source": [
    "def pre_processing():\n",
    "    \n",
    "    data=data_split()\n",
    "    \n",
    "    print(\"/n Notations\")\n",
    "    print(\"data_to_csv train_set\")\n",
    "    train_set=data_to_csv(data[0])\n",
    "    \n",
    "    print(\"data_to_csv test_set\")\n",
    "    test_set=data_to_csv(data[1])\n",
    "    \n",
    "    print('Train fx')\n",
    "    train_csv=fx_fy(train_set)\n",
    "    print('Train fy')\n",
    "    test_csv=fx_fy(test_set)\n",
    "    \n",
    "    train_csv.to_csv(os.getcwd()+'\\\\data_csv\\\\train.csv')\n",
    "    test_csv.to_csv(os.getcwd()+'\\\\data_csv\\\\test.csv')"
   ]
  },
  {
   "cell_type": "code",
   "execution_count": 13,
   "metadata": {},
   "outputs": [
    {
     "name": "stdout",
     "output_type": "stream",
     "text": [
      "data_split\n",
      "Train data: 279\n",
      "Test data: 93\n",
      "/n Notations\n",
      "data_to_csv train_set\n",
      "315\n",
      "data_to_csv test_set\n",
      "101\n",
      "Train fx\n",
      "315\n",
      "Train fy\n",
      "101\n"
     ]
    }
   ],
   "source": [
    "pre_processing()"
   ]
  },
  {
   "cell_type": "code",
   "execution_count": null,
   "metadata": {},
   "outputs": [],
   "source": []
  },
  {
   "cell_type": "code",
   "execution_count": null,
   "metadata": {},
   "outputs": [],
   "source": []
  }
 ],
 "metadata": {
  "kernelspec": {
   "display_name": "Python 3",
   "language": "python",
   "name": "python3"
  },
  "language_info": {
   "codemirror_mode": {
    "name": "ipython",
    "version": 3
   },
   "file_extension": ".py",
   "mimetype": "text/x-python",
   "name": "python",
   "nbconvert_exporter": "python",
   "pygments_lexer": "ipython3",
   "version": "3.7.4"
  }
 },
 "nbformat": 4,
 "nbformat_minor": 2
}
